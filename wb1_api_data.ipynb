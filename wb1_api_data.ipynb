{
 "cells": [
  {
   "cell_type": "markdown",
   "id": "604598b0-8024-48ea-91cc-7f8039f12d73",
   "metadata": {},
   "source": [
    "# World Bank data mining\n",
    "We collect data from the WB using the Python package *wbgapi*, which makes accessing the API very simple\n",
    "\n",
    "The variables were chosing using *domain knowledge* from previous work, thus were handpicked\n",
    "\n",
    "Alternative approaches can include:\n",
    "- Scraping all variables, ranking then by correlation (Pearson, Spearman, whatever you choose), and choosing the *n* highest\n",
    "- Using the same variables as other author(s)\n",
    "- Scraping all variables, and doing dimensionality reduction later (PCA, etcetera)\n",
    "- Combination of all of the above"
   ]
  },
  {
   "cell_type": "code",
   "execution_count": 1,
   "id": "1f284779",
   "metadata": {
    "is_executing": true,
    "tags": []
   },
   "outputs": [],
   "source": [
    "#!pip install wbgapi"
   ]
  },
  {
   "cell_type": "code",
   "execution_count": 4,
   "id": "edb92374",
   "metadata": {
    "is_executing": true
   },
   "outputs": [],
   "source": [
    "import pandas as pd\n",
    "import numpy as np\n",
    "\n",
    "import wbgapi as wb\n",
    "import requests"
   ]
  },
  {
   "cell_type": "code",
   "execution_count": 5,
   "id": "f2d0795b-e8ef-4bc6-8dc2-5dd7ce0f2cdc",
   "metadata": {
    "is_executing": true
   },
   "outputs": [],
   "source": [
    "# for searching all indicators within a database\n",
    "# wb.series.info(db=2)\n",
    "x = 15\n",
    "x"
   ]
  },
  {
   "cell_type": "code",
   "execution_count": 5,
   "id": "22d9db02-b9f0-4b28-bd03-02216fdf29ac",
   "metadata": {
    "is_executing": true
   },
   "outputs": [],
   "source": [
    "# for searching all indicators within a database\n",
    "# wb.series.info(db=2)"
   ]
  },
  {
   "cell_type": "code",
   "execution_count": 6,
   "id": "bfab77a7-14f4-438e-b278-e86d4450c67a",
   "metadata": {},
   "outputs": [
    {
     "data": {
      "text/html": [
       "<div class=\"wbgapi\"><table>\n",
       "<thead>\n",
       "<tr><th>id                  </th><th>value                                                                    </th></tr>\n",
       "</thead>\n",
       "<tbody>\n",
       "<tr><td>EG.GDP.PUSE.KO.PP   </td><td>GDP per unit of energy use (PPP $ per kg of oil equivalent)              </td></tr>\n",
       "<tr><td>EG.GDP.PUSE.KO.PP.KD</td><td>GDP per unit of energy use (constant 2017 PPP $ per kg of oil equivalent)</td></tr>\n",
       "<tr><td>EG.USE.COMM.GD.PP.KD</td><td>Energy use (kg of oil equivalent) per $1,000 GDP (constant 2017 PPP)     </td></tr>\n",
       "<tr><td>NY.GDP.DEFL.KD.ZG   </td><td>Inflation, GDP deflator (annual %)                                       </td></tr>\n",
       "<tr><td>NY.GDP.DEFL.KD.ZG.AD</td><td>Inflation, GDP deflator: linked series (annual %)                        </td></tr>\n",
       "<tr><td>NY.GDP.DEFL.ZS      </td><td>GDP deflator (base year varies by country)                               </td></tr>\n",
       "<tr><td>NY.GDP.DEFL.ZS.AD   </td><td>GDP deflator: linked series (base year varies by country)                </td></tr>\n",
       "<tr><td>NY.GDP.DISC.CN      </td><td>Discrepancy in expenditure estimate of GDP (current LCU)                 </td></tr>\n",
       "<tr><td>NY.GDP.DISC.KN      </td><td>Discrepancy in expenditure estimate of GDP (constant LCU)                </td></tr>\n",
       "<tr><td>NY.GDP.MKTP.CD      </td><td>GDP (current US$)                                                        </td></tr>\n",
       "<tr><td>NY.GDP.MKTP.CN      </td><td>GDP (current LCU)                                                        </td></tr>\n",
       "<tr><td>NY.GDP.MKTP.CN.AD   </td><td>GDP: linked series (current LCU)                                         </td></tr>\n",
       "<tr><td>NY.GDP.MKTP.KD      </td><td>GDP (constant 2015 US$)                                                  </td></tr>\n",
       "<tr><td>NY.GDP.MKTP.KD.ZG   </td><td>GDP growth (annual %)                                                    </td></tr>\n",
       "<tr><td>NY.GDP.MKTP.KN      </td><td>GDP (constant LCU)                                                       </td></tr>\n",
       "<tr><td>NY.GDP.MKTP.PP.CD   </td><td>GDP, PPP (current international $)                                       </td></tr>\n",
       "<tr><td>NY.GDP.MKTP.PP.KD   </td><td>GDP, PPP (constant 2017 international $)                                 </td></tr>\n",
       "<tr><td>NY.GDP.PCAP.CD      </td><td>GDP per capita (current US$)                                             </td></tr>\n",
       "<tr><td>NY.GDP.PCAP.CN      </td><td>GDP per capita (current LCU)                                             </td></tr>\n",
       "<tr><td>NY.GDP.PCAP.KD      </td><td>GDP per capita (constant 2015 US$)                                       </td></tr>\n",
       "<tr><td>NY.GDP.PCAP.KD.ZG   </td><td>GDP per capita growth (annual %)                                         </td></tr>\n",
       "<tr><td>NY.GDP.PCAP.KN      </td><td>GDP per capita (constant LCU)                                            </td></tr>\n",
       "<tr><td>NY.GDP.PCAP.PP.CD   </td><td>GDP per capita, PPP (current international $)                            </td></tr>\n",
       "<tr><td>NY.GDP.PCAP.PP.KD   </td><td>GDP per capita, PPP (constant 2017 international $)                      </td></tr>\n",
       "<tr><td>PA.NUS.PPP          </td><td>PPP conversion factor, GDP (LCU per international $)                     </td></tr>\n",
       "<tr><td>PA.NUS.PPPC.RF      </td><td>Price level ratio of PPP conversion factor (GDP) to market exchange rate </td></tr>\n",
       "<tr><td>SL.GDP.PCAP.EM.KD   </td><td>GDP per person employed (constant 2017 PPP $)                            </td></tr>\n",
       "<tr><td>                    </td><td>27 elements                                                              </td></tr>\n",
       "</tbody>\n",
       "</table></div>"
      ],
      "text/plain": [
       "id                    value\n",
       "--------------------  -------------------------------------------------------------------------\n",
       "EG.GDP.PUSE.KO.PP     GDP per unit of energy use (PPP $ per kg of oil equivalent)\n",
       "EG.GDP.PUSE.KO.PP.KD  GDP per unit of energy use (constant 2017 PPP $ per kg of oil equivalent)\n",
       "EG.USE.COMM.GD.PP.KD  Energy use (kg of oil equivalent) per $1,000 GDP (constant 2017 PPP)\n",
       "NY.GDP.DEFL.KD.ZG     Inflation, GDP deflator (annual %)\n",
       "NY.GDP.DEFL.KD.ZG.AD  Inflation, GDP deflator: linked series (annual %)\n",
       "NY.GDP.DEFL.ZS        GDP deflator (base year varies by country)\n",
       "NY.GDP.DEFL.ZS.AD     GDP deflator: linked series (base year varies by country)\n",
       "NY.GDP.DISC.CN        Discrepancy in expenditure estimate of GDP (current LCU)\n",
       "NY.GDP.DISC.KN        Discrepancy in expenditure estimate of GDP (constant LCU)\n",
       "NY.GDP.MKTP.CD        GDP (current US$)\n",
       "NY.GDP.MKTP.CN        GDP (current LCU)\n",
       "NY.GDP.MKTP.CN.AD     GDP: linked series (current LCU)\n",
       "NY.GDP.MKTP.KD        GDP (constant 2015 US$)\n",
       "NY.GDP.MKTP.KD.ZG     GDP growth (annual %)\n",
       "NY.GDP.MKTP.KN        GDP (constant LCU)\n",
       "NY.GDP.MKTP.PP.CD     GDP, PPP (current international $)\n",
       "NY.GDP.MKTP.PP.KD     GDP, PPP (constant 2017 international $)\n",
       "NY.GDP.PCAP.CD        GDP per capita (current US$)\n",
       "NY.GDP.PCAP.CN        GDP per capita (current LCU)\n",
       "NY.GDP.PCAP.KD        GDP per capita (constant 2015 US$)\n",
       "NY.GDP.PCAP.KD.ZG     GDP per capita growth (annual %)\n",
       "NY.GDP.PCAP.KN        GDP per capita (constant LCU)\n",
       "NY.GDP.PCAP.PP.CD     GDP per capita, PPP (current international $)\n",
       "NY.GDP.PCAP.PP.KD     GDP per capita, PPP (constant 2017 international $)\n",
       "PA.NUS.PPP            PPP conversion factor, GDP (LCU per international $)\n",
       "PA.NUS.PPPC.RF        Price level ratio of PPP conversion factor (GDP) to market exchange rate\n",
       "SL.GDP.PCAP.EM.KD     GDP per person employed (constant 2017 PPP $)\n",
       "                      27 elements"
      ]
     },
     "execution_count": 6,
     "metadata": {},
     "output_type": "execute_result"
    }
   ],
   "source": [
    "# For searching specific indicators\n",
    "wb.series.info(q='GDP')"
   ]
  },
  {
   "cell_type": "code",
   "execution_count": 7,
   "id": "322def1d-d152-40c4-bb35-6912b546fb09",
   "metadata": {},
   "outputs": [],
   "source": [
    "# collecting all keys and placing them into a nice dataframe - these are the labels of\n",
    "# variables to be fed into the ML model, so it helps to be careful in this section:\n",
    "\n",
    "vars_dict = {'code': ['NY.GDP.MKTP.KD.ZG', 'NY.GDP.MKTP.KD','NY.GDP.PCAP.KD',\n",
    "                      'NE.CON.GOVT.ZS', 'NE.CON.PRVT.ZS', 'GC.NFN.TOTL.GD.ZS','NY.GDP.DEFL.KD.ZG', 'EG.FEC.RNEW.ZS',\n",
    "                      'SL.UEM.TOTL.NE.ZS','SL.EMP.TOTL.SP.NE.ZS','HD.HCI.OVRL','SL.AGR.EMPL.ZS','SL.EMP.VULN.ZS',\n",
    "                      # environment:\n",
    "                      'EN.POP.SLUM.UR.ZS','ER.H2O.INTR.PC',\n",
    "                      'NE.IMP.GNFS.ZS','NE.EXP.GNFS.ZS','BX.KLT.DINV.CD.WD','GC.DOD.TOTL.GD.ZS','FR.INR.RINR',\n",
    "                      'SI.POV.DDAY','SI.POV.LMIC','SI.POV.UMIC','SI.POV.MDIM','SI.POV.MDIM.XQ',\n",
    "                      'SI.POV.GINI','BN.CAB.XOKA.GD.ZS','SP.POP.TOTL','EN.POP.DNST','SP.POP.GROW',\n",
    "                      'SP.DYN.LE00.IN','SP.DYN.CDRT.IN', 'SH.DYN.MORT','SH.DTH.COMM.ZS',\n",
    "                      # agric:\n",
    "                      'EG.ELC.RNEW.ZS','AG.LND.AGRI.ZS','NV.AGR.TOTL.ZS','AG.LND.ARBL.ZS','SP.RUR.TOTL.ZS',\n",
    "                      # climate change:\n",
    "                      'EG.ELC.ACCS.ZS','EG.USE.ELEC.KH.PC',\n",
    "                      # energy & mining:\n",
    "                      'TX.VAL.FUEL.ZS.UN','TX.VAL.MMTL.ZS.UN',\n",
    "                      'EN.ATM.CO2E.PC','EN.CLC.GHGR.MT.CE','NV.IND.TOTL.ZS','NV.SRV.EMPL.KD',\n",
    "                      'SE.ENR.PRSC.FM.ZS','SE.ADT.LITR.ZS','SE.TER.CUAT.BA.ZS','VC.IHR.PSRC.P5','SP.POP.SCIE.RD.P6'],\n",
    "            'label': ['gdp_real_gwt', 'gdp_real_us_fixed','gdp_per_capita',\n",
    "                      'gdp_pp_govt', 'gdp_pp_private', 'investment', 'inflation_pp', 'renew_energy',\n",
    "                      'unemployment','employment','HCI','agric_employment','vulnerable_employment',\n",
    "                      # environment:\n",
    "                      'pop_slums','renew_freshwater',\n",
    "                      'imports','exports','foreign_inv','govt_debt','real_interest_rate',\n",
    "                      'poverty_1.90','poverty_3.20','poverty_5.50','poverty_multidim','poverty_mult_index',\n",
    "                      'gini_index','cab','population','pop_density','pop_growth',\n",
    "                      'life_expectancy','death_rate', 'child_mortality','cause_of_death',\n",
    "                      # agric:\n",
    "                      'renewable_energy_output','agric_land','agff_gdp','arable_land','rural_pop',\n",
    "                      # climate change:\n",
    "                      'electricity_access','power_consumption',\n",
    "                      # energy & mining:\n",
    "                      'fuel_exports','metal_exports',\n",
    "                      'co2_emissions','ghg_emissions','industry_gdp','service_value_added',\n",
    "                      'school_enroll','literacy','bachelor','homicide','research']}\n",
    "\n",
    "vars_df = pd.DataFrame(vars_dict)"
   ]
  },
  {
   "cell_type": "code",
   "execution_count": 8,
   "id": "adcf970c-08ad-42aa-83b9-948422657b5c",
   "metadata": {},
   "outputs": [
    {
     "data": {
      "text/plain": [
       "52"
      ]
     },
     "execution_count": 8,
     "metadata": {},
     "output_type": "execute_result"
    }
   ],
   "source": [
    "len(vars_df)"
   ]
  },
  {
   "cell_type": "code",
   "execution_count": null,
   "id": "cef117e4-96f9-4b5f-8c6e-025bcc3a5d9d",
   "metadata": {},
   "outputs": [],
   "source": [
    "# obtaining definition/description of each variable\n",
    "vars_df = vars_df.assign(definition='')\n",
    "for i in range(0,len(vars_df)):\n",
    "    vars_df.iloc[i,2] = wb.series.get(id=vars_df.iloc[i,0])['value']"
   ]
  },
  {
   "cell_type": "code",
   "execution_count": 14,
   "id": "c5b80457-17d8-45b9-9807-30c6b61a5185",
   "metadata": {},
   "outputs": [],
   "source": [
    "# function for obtaining a clean dataframe with columns \"economy\", \"Year\", and economic indicators:\n",
    "def vert_df(gdp_df, name):\n",
    "    gdp_df.columns = gdp_df.columns.str.replace('YR','')\n",
    "    gdp_df = gdp_df.reset_index()\n",
    "    gdp_df.drop('Country', inplace=True, axis=1) # dropping \"Country\" - we are using the ISO3 code instead\n",
    "    year_drop = list(range(1960, 1990)) # dropping all years before 1990\n",
    "    year_drop = [*map(str,year_drop)]\n",
    "    gdp_df.drop(year_drop, inplace=True, axis=1)\n",
    "    gdp_df = gdp_df.melt(id_vars = ['economy'], var_name = 'Year', value_name = name)\n",
    "    gdp_df.Year = pd.to_numeric(gdp_df.Year)\n",
    "    return gdp_df"
   ]
  },
  {
   "cell_type": "code",
   "execution_count": null,
   "id": "d9b2f0f9-7e39-483e-8a5c-580967292d5a",
   "metadata": {},
   "outputs": [],
   "source": [
    "vars_df"
   ]
  },
  {
   "cell_type": "code",
   "execution_count": 15,
   "id": "0adf1423-30d0-4751-bce8-e4e90bfeddce",
   "metadata": {},
   "outputs": [],
   "source": [
    "# loop for creating dataframe to export:\n",
    "gdp_df = vert_df(wb.data.DataFrame(vars_df.iloc[0,0], labels=True), vars_df.iloc[0,1])\n",
    "for i in range(1, len(vars_df)):\n",
    "    wbcode, wblabel = vars_df.iloc[i,0], vars_df.iloc[i,1]\n",
    "    new_data = vert_df(wb.data.DataFrame(wbcode, labels=True), wblabel)\n",
    "    gdp_df = pd.merge(gdp_df, new_data, how='left', on=['economy', 'Year'])"
   ]
  },
  {
   "cell_type": "code",
   "execution_count": null,
   "id": "3e6b9d6e-5d30-4eba-bc9f-793ff44272f0",
   "metadata": {},
   "outputs": [],
   "source": [
    "# replacing label:\n",
    "gdp_df.rename(columns = {'economy':'ISO3'}, inplace = True)"
   ]
  },
  {
   "cell_type": "code",
   "execution_count": null,
   "id": "74d572e9-03d4-409a-9cf4-16873e4eba22",
   "metadata": {},
   "outputs": [],
   "source": [
    "gdp_df"
   ]
  },
  {
   "cell_type": "code",
   "execution_count": 18,
   "id": "741b6b68-f012-4cf9-8039-5ecc158edcf7",
   "metadata": {},
   "outputs": [],
   "source": [
    "gdp_df.to_csv('data/wb_data.csv', index=False)"
   ]
  },
  {
   "cell_type": "code",
   "execution_count": null,
   "id": "f35bb57a-37f0-4cd8-ba32-512e4ecd96e3",
   "metadata": {},
   "outputs": [],
   "source": []
  }
 ],
 "metadata": {
  "kernelspec": {
   "display_name": "Python 3 (ipykernel)",
   "language": "python",
   "name": "python3"
  },
  "language_info": {
   "codemirror_mode": {
    "name": "ipython",
    "version": 3
   },
   "file_extension": ".py",
   "mimetype": "text/x-python",
   "name": "python",
   "nbconvert_exporter": "python",
   "pygments_lexer": "ipython3",
   "version": "3.11.2"
  },
  "toc-autonumbering": true
 },
 "nbformat": 4,
 "nbformat_minor": 5
}